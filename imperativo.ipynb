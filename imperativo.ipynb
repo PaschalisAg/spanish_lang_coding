{
 "cells": [
  {
   "cell_type": "markdown",
   "id": "c64c5a36",
   "metadata": {},
   "source": [
    "- need to add irregular\n",
    "- need to add -er and -ir"
   ]
  },
  {
   "cell_type": "code",
   "execution_count": 47,
   "id": "95b19e89",
   "metadata": {
    "ExecuteTime": {
     "end_time": "2023-08-16T18:22:48.179450Z",
     "start_time": "2023-08-16T18:22:36.771853Z"
    }
   },
   "outputs": [
    {
     "name": "stdout",
     "output_type": "stream",
     "text": [
      "Give me an infinitive in Castellano ---> caminar\n",
      "Affirmative or Negative? ---> affirmative\n",
      "-\n",
      "camina\n",
      "camine\n",
      "caminemos\n",
      "caminad\n",
      "caminen\n"
     ]
    }
   ],
   "source": [
    "import time\n",
    "\n",
    "\n",
    "def imperativo():\n",
    "    ar_suffixes_afir = ['-', 'a', 'e', 'emos', 'ad', 'en']\n",
    "    ar_suffixes_afir_stretch = ['-', 'a', 'é', 'emos', 'ad', 'en']\n",
    "    ar_suffixes_neg = ['-', 'es', 'e', 'emos', 'éis', 'en']\n",
    "    ar_suffixes_neg_stretch = ['-', 'es', 'é', 'emos', 'éis', 'en']\n",
    "    infinitivo = str(\n",
    "        input(\"Give me an infinitive in Castellano ---> \")).lower().strip()\n",
    "    formalidad = str(\n",
    "        input(\"Affirmative or Negative? ---> \")).lower().strip()\n",
    "    # ============= Error Handling =================\n",
    "    # check if infinitive is an actual infinitive in Castellano\n",
    "    try:\n",
    "        if not infinitivo.endswith(('ar', 'er', 'ir')):\n",
    "            raise ValueError(\n",
    "                \"Invalid Input! Infinitives in Spanish must end with either -ar, -er, -ir.\")\n",
    "    except ValueError as e:\n",
    "        print(e)\n",
    "    try:\n",
    "        if not formalidad in ['affirmative', 'negative']:\n",
    "            raise ValueError(\n",
    "                \"Invalid Input! `Formalidad` value can only be 'affirmative' or 'negative'.\")\n",
    "    except ValueError as e:\n",
    "        print(e)\n",
    "\n",
    "    if formalidad == 'affirmative':  # cases in affirmative\n",
    "        if infinitivo.endswith(\"ar\"):  # cases for -ar verbs\n",
    "            if infinitivo.endswith(\"car\"):\n",
    "                for suffix in ar_suffixes_afir[0]:\n",
    "                    print(suffix)\n",
    "                    time.sleep(1)\n",
    "                for suffix in ar_suffixes_afir[1]:\n",
    "                    print(infinitivo[:-1])\n",
    "                    time.sleep(1)\n",
    "                for suffix in ar_suffixes_afir[2:4]:\n",
    "                    print(infinitivo[:-3] + 'qu' + suffix)\n",
    "                    time.sleep(1)\n",
    "                    print(infinitivo[:-2] + ar_suffixes_afir[4])\n",
    "                    time.sleep(1)  # remove extra indentation here\n",
    "                for suffix in ar_suffixes_afir[-1:]:\n",
    "                    print(infinitivo[:-3] + 'qu' + suffix)\n",
    "                    time.sleep(1)\n",
    "            elif infinitivo == 'dar':\n",
    "                print(ar_suffixes_afir_stretch[0])\n",
    "                time.sleep(1)\n",
    "                for suffix in ar_suffixes_afir_stretch[1:]:\n",
    "                    print(infinitivo[:-2] + suffix)\n",
    "                    time.sleep(1)\n",
    "            # e.g., comprobar\n",
    "            elif infinitivo.endswith('bar') and infinitivo[-4] == 'o':\n",
    "                print(ar_suffixes_afir[0])\n",
    "                time.sleep(1)\n",
    "                for suffix in ar_suffixes_afir[1:3]:\n",
    "                    print(infinitivo[:-4] + 'ue' + infinitivo[-3] + suffix)\n",
    "                    time.sleep(1)\n",
    "                for suffix in ar_suffixes_afir[3:-1]:\n",
    "                    print(infinitivo[:-2] + suffix)\n",
    "                    time.sleep(1)\n",
    "                print(infinitivo[:-4] + 'ue' +\n",
    "                      infinitivo[-3] + ar_suffixes_afir[-1])\n",
    "            elif infinitivo[1] == 'u':  # e.g., jugar\n",
    "                print(ar_suffixes_afir[0])\n",
    "                time.sleep(1)\n",
    "                print(infinitivo[:2] + 'eg' + ar_suffixes_afir[1])\n",
    "                time.sleep(1)\n",
    "                print(infinitivo[:2] + 'egu' + ar_suffixes_afir[2])\n",
    "                time.sleep(1)\n",
    "                print(infinitivo[:3] + 'u' + ar_suffixes_afir[3])\n",
    "                time.sleep(1)\n",
    "                print(infinitivo[:-2] + ar_suffixes_afir[4])\n",
    "                time.sleep(1)\n",
    "                print(infinitivo[:2] + 'egu' + ar_suffixes_afir[5])\n",
    "\n",
    "            else:  # regular -ar verbs (e.g., pasar)\n",
    "                print(ar_suffixes_afir[0])\n",
    "                time.sleep(1)\n",
    "                for suffix in ar_suffixes_afir[1:]:\n",
    "                    print(infinitivo[:-2] + suffix)\n",
    "                    time.sleep(1)\n",
    "\n",
    "    elif formalidad == 'negative':  # cases in negative\n",
    "        # ask for a negating word\n",
    "        negative_word = str(\n",
    "            input('Give me a negating word ---> ')).lower().strip()\n",
    "        if infinitivo.endswith('ar'):  # cases for -ar verbs\n",
    "            if infinitivo.endswith('car'):  # e.g., especificar, buscar\n",
    "                infinitivo = infinitivo.replace('car', 'qu')\n",
    "                print(ar_suffixes_neg[0])\n",
    "                time.sleep(1)\n",
    "                for suffix in ar_suffixes_neg[1:]:\n",
    "                    print(negative_word + ' ' + infinitivo + suffix)\n",
    "                    time.sleep(1)\n",
    "            elif infinitivo == 'dar':\n",
    "                print(ar_suffixes_neg_stretch[0])\n",
    "                time.sleep(1)\n",
    "                for suffix in ar_suffixes_afir_stretch[1:]:\n",
    "                    print(negative_word + ' ' + infinitivo[:-2] + suffix)\n",
    "                    time.sleep(1)\n",
    "            # e.g., com-probar\n",
    "            elif infinitivo.endswith('bar') and infinitivo[-4]:\n",
    "                print(ar_suffixes_neg[0])\n",
    "                time.sleep(1)\n",
    "                for suffix in ar_suffixes_neg[1:3]:\n",
    "                    print(negative_word + ' ' +\n",
    "                          infinitivo[:-4] + 'ue' + infinitivo[-3] + suffix)\n",
    "                    time.sleep(1)\n",
    "                for suffix in ar_suffixes_neg[3:-1]:\n",
    "                    print(negative_word + ' ' + infinitivo[:-2] + suffix)\n",
    "                    time.sleep(1)\n",
    "                print(negative_word + ' ' +\n",
    "                      infinitivo[:-4] + 'ue' + infinitivo[-3] + ar_suffixes_neg[-1])\n",
    "            elif infinitivo[1] == 'u':  # e.g., jugar\n",
    "                print(ar_suffixes_afir[0])\n",
    "                time.sleep(1)\n",
    "                print(negative_word + ' ' +\n",
    "                      infinitivo[:2] + 'egu' + ar_suffixes_neg[1])\n",
    "                time.sleep(1)\n",
    "                print(negative_word + ' ' +\n",
    "                      infinitivo[:2] + 'egu' + ar_suffixes_neg[2])\n",
    "                time.sleep(1)\n",
    "                print(negative_word + ' ' +\n",
    "                      infinitivo[:3] + 'u' + ar_suffixes_neg[3])\n",
    "                time.sleep(1)\n",
    "                print(negative_word + ' ' +\n",
    "                      infinitivo[:-2] + 'u' + ar_suffixes_neg[4])\n",
    "                time.sleep(1)\n",
    "                print(negative_word + ' ' +\n",
    "                      infinitivo[:2] + 'egu' + ar_suffixes_neg[5])\n",
    "            else:  # regular verbs (e.g., pasar)\n",
    "                print(ar_suffixes_neg[0])\n",
    "                time.sleep(1)\n",
    "                for suffix in ar_suffixes_neg[1:]:\n",
    "                    print(negative_word + ' ' + infinitivo[:-2] + suffix)\n",
    "                    time.sleep(1)\n",
    "\n",
    "\n",
    "imperativo()"
   ]
  },
  {
   "cell_type": "code",
   "execution_count": 43,
   "id": "35c4e9d1",
   "metadata": {
    "ExecuteTime": {
     "end_time": "2023-08-16T18:20:07.251894Z",
     "start_time": "2023-08-16T18:20:03.218459Z"
    }
   },
   "outputs": [
    {
     "name": "stdout",
     "output_type": "stream",
     "text": [
      "juegues\n",
      "juegue\n",
      "juguemos\n",
      "juguéis\n",
      "jueguen\n"
     ]
    }
   ],
   "source": [
    "infinitivo = 'jugar'\n",
    "\n",
    "ar_suffixes_afir = ['-', 'a', 'e', 'emos', 'ad', 'en']\n",
    "ar_suffixes_neg = ['-', 'es', 'e', 'emos', 'éis', 'en']\n",
    "print(infinitivo[:2] + 'egu' + ar_suffixes_neg[1])\n",
    "time.sleep(1)\n",
    "print(infinitivo[:2] + 'egu' + ar_suffixes_neg[2])\n",
    "time.sleep(1)\n",
    "print(infinitivo[:3] + 'u' + ar_suffixes_neg[3])\n",
    "time.sleep(1)\n",
    "print(infinitivo[:-2] + 'u' + ar_suffixes_neg[4])\n",
    "time.sleep(1)\n",
    "print(infinitivo[:2] + 'egu' + ar_suffixes_neg[5])"
   ]
  },
  {
   "cell_type": "code",
   "execution_count": 26,
   "id": "f11606bf",
   "metadata": {
    "ExecuteTime": {
     "end_time": "2023-08-16T18:15:13.709883Z",
     "start_time": "2023-08-16T18:15:13.696181Z"
    }
   },
   "outputs": [
    {
     "data": {
      "text/plain": [
       "'emos'"
      ]
     },
     "execution_count": 26,
     "metadata": {},
     "output_type": "execute_result"
    }
   ],
   "source": [
    "ar_suffixes_afir[3]"
   ]
  },
  {
   "cell_type": "code",
   "execution_count": null,
   "id": "52b4348a",
   "metadata": {},
   "outputs": [],
   "source": []
  }
 ],
 "metadata": {
  "kernelspec": {
   "display_name": "Python 3 (ipykernel)",
   "language": "python",
   "name": "python3"
  },
  "language_info": {
   "codemirror_mode": {
    "name": "ipython",
    "version": 3
   },
   "file_extension": ".py",
   "mimetype": "text/x-python",
   "name": "python",
   "nbconvert_exporter": "python",
   "pygments_lexer": "ipython3",
   "version": "3.8.2"
  },
  "toc": {
   "base_numbering": 1,
   "nav_menu": {},
   "number_sections": true,
   "sideBar": true,
   "skip_h1_title": false,
   "title_cell": "Table of Contents",
   "title_sidebar": "Contents",
   "toc_cell": false,
   "toc_position": {},
   "toc_section_display": true,
   "toc_window_display": false
  },
  "varInspector": {
   "cols": {
    "lenName": 16,
    "lenType": 16,
    "lenVar": 40
   },
   "kernels_config": {
    "python": {
     "delete_cmd_postfix": "",
     "delete_cmd_prefix": "del ",
     "library": "var_list.py",
     "varRefreshCmd": "print(var_dic_list())"
    },
    "r": {
     "delete_cmd_postfix": ") ",
     "delete_cmd_prefix": "rm(",
     "library": "var_list.r",
     "varRefreshCmd": "cat(var_dic_list()) "
    }
   },
   "types_to_exclude": [
    "module",
    "function",
    "builtin_function_or_method",
    "instance",
    "_Feature"
   ],
   "window_display": false
  }
 },
 "nbformat": 4,
 "nbformat_minor": 5
}
