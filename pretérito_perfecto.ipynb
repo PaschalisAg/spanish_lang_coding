{
 "cells": [
  {
   "cell_type": "code",
   "execution_count": 1,
   "id": "73f3a44c",
   "metadata": {
    "ExecuteTime": {
     "end_time": "2023-09-10T13:15:13.446352Z",
     "start_time": "2023-09-10T13:15:13.424809Z"
    }
   },
   "outputs": [],
   "source": [
    "import time\n",
    "\n",
    "\n",
    "def pretérito_perfecto():\n",
    "    infinitivo = str(\n",
    "        input(\"Darme un infinitivo en Castellano: \")).lower().strip()\n",
    "\n",
    "    # auxiliary verb \"haber\"\n",
    "    haber_imperf = ['he', 'has', 'ha',\n",
    "                    'hemos', 'habéis', 'han']\n",
    "    irreg_verbs = ['abrir', 'decir', 'escribir',\n",
    "                   'hacer', 'ver', 'morir', 'poner', 'romper']\n",
    "    if infinitivo not in irreg_verbs:\n",
    "        if infinitivo.endswith('ar'):\n",
    "            participio = infinitivo[:-2] + 'ado'\n",
    "        elif infinitivo.endswith(('er', 'ir')):\n",
    "            participio = infinitivo[:-2] + 'ido'\n",
    "        elif infinitivo == \"ir\":\n",
    "            participio = infinitivo[:-1] + 'do'\n",
    "    if infinitivo == 'abrir':\n",
    "        for aux in haber_imperf:\n",
    "            print(aux + ' ' + 'abierto')\n",
    "    elif infinitivo == 'decir':\n",
    "        for aux in haber_imperf:\n",
    "            print(aux + ' ' + 'dicho')\n",
    "    elif infinitivo == 'escribir':\n",
    "        for aux in haber_imperf:\n",
    "            print(aux + ' ' + 'escrito')\n",
    "    elif infinitivo == 'hacer':\n",
    "        for aux in haber_imperf:\n",
    "            print(aux + ' ' + 'hecho')\n",
    "    elif infinitivo == 'ver':\n",
    "        for aux in haber_imperf:\n",
    "            print(aux + ' ' + 'visto')\n",
    "    elif infinitivo == 'morir':\n",
    "        for aux in haber_imperf:\n",
    "            print(aux + ' ' + 'muerto')\n",
    "    elif infinitivo == 'poner':\n",
    "        for aux in haber_imperf:\n",
    "            print(aux + ' ' + 'puesto')\n",
    "    elif infinitivo == 'romper':\n",
    "        for aux in haber_imperf:\n",
    "            print(aux + ' ' + 'roto')\n",
    "    elif infinitivo == 'freír':\n",
    "        for aux in haber_imperf:\n",
    "            print(aux + ' ' + 'frito/freido')\n",
    "    elif infinitivo == 'proveer':\n",
    "        for aux in haber_imperf:\n",
    "            print(aux + ' ' + 'provisto/proveido')\n",
    "    elif infinitivo == 'imprimir':\n",
    "        for aux in haber_imperf:\n",
    "            print(aux + ' ' + 'impreso/imprimido')\n",
    "    elif infinitivo == 'satisfacer':\n",
    "        for aux in haber_imperf:\n",
    "            print(aux + ' ' + 'satisfecho')\n",
    "    elif infinitivo == 'suscribir':\n",
    "        for aux in haber_imperf:\n",
    "            print(aux + ' ' + 'suscrito/suscripto')\n",
    "    elif infinitivo == 'volver':\n",
    "        for aux in haber_imperf:\n",
    "            print(aux + ' ' + 'vuelto')\n",
    "    else:\n",
    "        for aux in haber_imperf:\n",
    "            print(aux + ' ' + participio)"
   ]
  },
  {
   "cell_type": "code",
   "execution_count": 2,
   "id": "8be9bd67",
   "metadata": {
    "ExecuteTime": {
     "end_time": "2023-09-10T13:15:26.746998Z",
     "start_time": "2023-09-10T13:15:20.760094Z"
    }
   },
   "outputs": [
    {
     "name": "stdout",
     "output_type": "stream",
     "text": [
      "Darme un infinitivo en Castellano: escribir\n",
      "he escrito\n",
      "has escrito\n",
      "ha escrito\n",
      "hemos escrito\n",
      "habéis escrito\n",
      "han escrito\n"
     ]
    }
   ],
   "source": [
    "pretérito_perfecto()"
   ]
  },
  {
   "cell_type": "code",
   "execution_count": null,
   "id": "dc6d8cf2",
   "metadata": {},
   "outputs": [],
   "source": []
  }
 ],
 "metadata": {
  "kernelspec": {
   "display_name": "Python 3 (ipykernel)",
   "language": "python",
   "name": "python3"
  },
  "language_info": {
   "codemirror_mode": {
    "name": "ipython",
    "version": 3
   },
   "file_extension": ".py",
   "mimetype": "text/x-python",
   "name": "python",
   "nbconvert_exporter": "python",
   "pygments_lexer": "ipython3",
   "version": "3.8.2"
  },
  "toc": {
   "base_numbering": 1,
   "nav_menu": {},
   "number_sections": true,
   "sideBar": true,
   "skip_h1_title": false,
   "title_cell": "Table of Contents",
   "title_sidebar": "Contents",
   "toc_cell": false,
   "toc_position": {},
   "toc_section_display": true,
   "toc_window_display": false
  },
  "varInspector": {
   "cols": {
    "lenName": 16,
    "lenType": 16,
    "lenVar": 40
   },
   "kernels_config": {
    "python": {
     "delete_cmd_postfix": "",
     "delete_cmd_prefix": "del ",
     "library": "var_list.py",
     "varRefreshCmd": "print(var_dic_list())"
    },
    "r": {
     "delete_cmd_postfix": ") ",
     "delete_cmd_prefix": "rm(",
     "library": "var_list.r",
     "varRefreshCmd": "cat(var_dic_list()) "
    }
   },
   "types_to_exclude": [
    "module",
    "function",
    "builtin_function_or_method",
    "instance",
    "_Feature"
   ],
   "window_display": false
  }
 },
 "nbformat": 4,
 "nbformat_minor": 5
}
