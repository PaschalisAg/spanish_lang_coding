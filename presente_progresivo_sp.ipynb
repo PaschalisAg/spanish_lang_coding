{
 "cells": [
  {
   "cell_type": "markdown",
   "id": "b8d52eb8",
   "metadata": {},
   "source": [
    "# Presente progresivo\n",
    "\n",
    "Rules:\n",
    "- If verb ends in \"-ar\", \"gerundio\" is \"-ando\" (e.g., hablar --> hablando).\n",
    "- If verb stem ends in -er and -ir and the stem ends in a vowel, then \"gerundio\" is -yendo (e.g., destruir --> destruyendo).\n",
    "- If verb is \"ir\", then \"gerundio\" is \"yendo\".\n",
    "- If verb ends in \"-er\" or \"-ir\", \"gerundio is \"-iendo\" (e.g., hacer --> haciendo).\n",
    "- If the verb ends in \"-er\" or \"-ir\" and before that the stem ends in \"ll\" or \"ñ\", \"gerundio\" is \"-endo\" (e.g., bullir --> bullendo)\n",
    "- stem change irregular verbs"
   ]
  },
  {
   "cell_type": "code",
   "execution_count": 30,
   "id": "5d12e55c",
   "metadata": {
    "ExecuteTime": {
     "end_time": "2023-06-16T09:41:04.031853Z",
     "start_time": "2023-06-16T09:41:04.016557Z"
    }
   },
   "outputs": [],
   "source": [
    "def presente_progresivo():\n",
    "\n",
    "    vowels = \"aeiou\"\n",
    "    verb = input(\"Enter a Spanish verb: \")\n",
    "\n",
    "    if verb[-2:].endswith(\"ar\"):\n",
    "        presente_progresivo = verb[:-2] + \"ando\"\n",
    "    elif verb == \"ir\":\n",
    "        presente_progresivo = \"yendo\"\n",
    "    elif verb[-2:].endswith(\"er\") or verb[-2:].endswith(\"ir\"):\n",
    "        if verb[-4:-2] == \"ll\" or verb[-3] == \"ñ\":\n",
    "            presente_progresivo = verb[:-2] + \"endo\"\n",
    "        elif verb[-1] in vowels:\n",
    "            presente_progresivo = verb[:-2] + \"yendo\"\n",
    "        elif verb == \"dormir\":\n",
    "            presente_progresivo = \"durmiendo\"\n",
    "        elif verb == \"seguir\":\n",
    "            presente_progresivo = \"siguiendo\"\n",
    "        elif verb == \"roer\":\n",
    "            presente_progresivo = \"royendo\"\n",
    "        elif verb[1] == \"o\":\n",
    "            presente_progresivo = verb[0] + \"u\" + verb[2] + \"iendo\"\n",
    "        elif verb[1] == \"o\" and verb[2] == \"r\":\n",
    "            presente_progresivo + verb[0] + \"u\" + verb[2:4] + \"iendo\"\n",
    "        elif verb[1] == \"e\":\n",
    "            presente_progresivo = verb[0] + \"i\" + verb[2] + \"iendo\"\n",
    "            # if verb is complex, then use only the verb per se (e.g., conseguir --> seguir)\n",
    "        elif verb[1] == \"e\" and verb[3] in vowels:\n",
    "            verb[0] + \"i\" + verb[2:4] + \"iendo\"\n",
    "        else:\n",
    "            presente_progresivo = verb[:-2] + \"iendo\"\n",
    "    else:\n",
    "        raise ValueError(\n",
    "            \"Please give me a valid verb ending in -ar, -er, or -ir\")\n",
    "\n",
    "    verb_estar = [\"estoy\", \"estás\", \"está\", \"estamos\", \"estáis\", \"están\"]\n",
    "    for estar in verb_estar:\n",
    "        print(estar + \" \" + presente_progresivo)\n",
    "        time.sleep(1)"
   ]
  },
  {
   "cell_type": "code",
   "execution_count": 31,
   "id": "2f598b29",
   "metadata": {
    "ExecuteTime": {
     "end_time": "2023-06-16T09:41:22.888903Z",
     "start_time": "2023-06-16T09:41:04.627860Z"
    }
   },
   "outputs": [
    {
     "name": "stdout",
     "output_type": "stream",
     "text": [
      "Enter a Spanish verb: bañar\n",
      "estoy bañando\n",
      "estás bañando\n",
      "está bañando\n",
      "estamos bañando\n",
      "estáis bañando\n",
      "están bañando\n"
     ]
    }
   ],
   "source": [
    "presente_progresivo()"
   ]
  }
 ],
 "metadata": {
  "kernelspec": {
   "display_name": "Python 3 (ipykernel)",
   "language": "python",
   "name": "python3"
  },
  "language_info": {
   "codemirror_mode": {
    "name": "ipython",
    "version": 3
   },
   "file_extension": ".py",
   "mimetype": "text/x-python",
   "name": "python",
   "nbconvert_exporter": "python",
   "pygments_lexer": "ipython3",
   "version": "3.8.2"
  },
  "latex_envs": {
   "LaTeX_envs_menu_present": true,
   "autoclose": true,
   "autocomplete": true,
   "bibliofile": "biblio.bib",
   "cite_by": "apalike",
   "current_citInitial": 1,
   "eqLabelWithNumbers": true,
   "eqNumInitial": 1,
   "hotkeys": {
    "equation": "Ctrl-E",
    "itemize": "Ctrl-I"
   },
   "labels_anchors": false,
   "latex_user_defs": false,
   "report_style_numbering": false,
   "user_envs_cfg": false
  },
  "toc": {
   "base_numbering": 1,
   "nav_menu": {},
   "number_sections": true,
   "sideBar": true,
   "skip_h1_title": false,
   "title_cell": "Table of Contents",
   "title_sidebar": "Contents",
   "toc_cell": false,
   "toc_position": {},
   "toc_section_display": true,
   "toc_window_display": false
  },
  "varInspector": {
   "cols": {
    "lenName": 16,
    "lenType": 16,
    "lenVar": 40
   },
   "kernels_config": {
    "python": {
     "delete_cmd_postfix": "",
     "delete_cmd_prefix": "del ",
     "library": "var_list.py",
     "varRefreshCmd": "print(var_dic_list())"
    },
    "r": {
     "delete_cmd_postfix": ") ",
     "delete_cmd_prefix": "rm(",
     "library": "var_list.r",
     "varRefreshCmd": "cat(var_dic_list()) "
    }
   },
   "types_to_exclude": [
    "module",
    "function",
    "builtin_function_or_method",
    "instance",
    "_Feature"
   ],
   "window_display": false
  }
 },
 "nbformat": 4,
 "nbformat_minor": 5
}
