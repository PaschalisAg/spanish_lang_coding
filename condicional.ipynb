{
 "cells": [
  {
   "cell_type": "markdown",
   "id": "80a33b3a",
   "metadata": {},
   "source": [
    "# El condicional o el prospretérito\n",
    "\n",
    "- regular conditional verbs:\n",
    "    - infinitive form of the verbs for every category (i.e., \"-ar\", \"-er\", -\"ir\")\n",
    "    - the endings are the following: -ía, -ías, -ía, -íamos, -íais, -ían\n",
    "    - the endings of the regular conditional verbs are the same with the endings of the imperfect tense, but:\n",
    "        - conditional tense endings are attached to the infinitive\n",
    "        - imperfect tense endings are attached to the stem\n",
    "- irregular conditional verbs:\n",
    "    - 1st category: the last vowel in the infinitive is replaced with a -d (only verbs that end with \"-er\" or \"-ir\" and before that have either \"-l-\" or \"-d-\".\n",
    "    - 2nd category: the last vowel in the infinitive is removed (only verbs that end with \"-er\" fall into this category).\n",
    "    - 3rd category: completely irregular verbs (e.g., \"hacer\" and \"decir\"; the pattern with these verbs is that we need to take the first and the last two letters of the infinitive form and just add the suffixes of the conditional)"
   ]
  },
  {
   "cell_type": "code",
   "execution_count": 47,
   "id": "5459ebea",
   "metadata": {
    "ExecuteTime": {
     "end_time": "2023-07-09T16:10:22.024203Z",
     "start_time": "2023-07-09T16:10:22.009741Z"
    }
   },
   "outputs": [],
   "source": [
    "import time\n",
    "\n",
    "\n",
    "def condicional():\n",
    "    verb = str(input(\"Giver a spanish verb (in its infinitive form:\"))\n",
    "    condicional_suffixes = [\"ía\", \"ías\", \"ía\", \"íamos\", \"íais\", \"ían\"]\n",
    "    verbs_irreg = [\"caber\", \"poder\", \"saber\", \"querer\", \"haber\"]\n",
    "    for suffix in condicional_suffixes:\n",
    "        if verb.endswith((\"er\", \"ir\")) and (verb[-3] == \"n\" or verb[-3] == \"l\"):\n",
    "            print(verb[:-2] + \"d\" + verb[-1] + suffix)\n",
    "        elif verb in verbs_irreg:\n",
    "            print(verb[:-2] + verb[-1] + suffix)\n",
    "        elif verb == \"hacer\":\n",
    "            print(verb[:-3] + verb[-1] + suffix)\n",
    "        elif verb == \"decir\":\n",
    "            print(verb[:-3] + verb[-1] + suffix)\n",
    "        else:\n",
    "            print(verb + suffix)\n",
    "        time.sleep(1)"
   ]
  },
  {
   "cell_type": "code",
   "execution_count": 48,
   "id": "ee17b8bf",
   "metadata": {
    "ExecuteTime": {
     "end_time": "2023-07-09T16:10:30.894915Z",
     "start_time": "2023-07-09T16:10:22.542529Z"
    }
   },
   "outputs": [
    {
     "name": "stdout",
     "output_type": "stream",
     "text": [
      "Giver a spanish verb (in its infinitive form:pedir\n",
      "pediría\n",
      "pedirías\n",
      "pediría\n",
      "pediríamos\n",
      "pediríais\n",
      "pedirían\n"
     ]
    }
   ],
   "source": [
    "condicional()"
   ]
  }
 ],
 "metadata": {
  "kernelspec": {
   "display_name": "Python 3 (ipykernel)",
   "language": "python",
   "name": "python3"
  },
  "language_info": {
   "codemirror_mode": {
    "name": "ipython",
    "version": 3
   },
   "file_extension": ".py",
   "mimetype": "text/x-python",
   "name": "python",
   "nbconvert_exporter": "python",
   "pygments_lexer": "ipython3",
   "version": "3.8.2"
  },
  "toc": {
   "base_numbering": 1,
   "nav_menu": {},
   "number_sections": true,
   "sideBar": true,
   "skip_h1_title": false,
   "title_cell": "Table of Contents",
   "title_sidebar": "Contents",
   "toc_cell": false,
   "toc_position": {},
   "toc_section_display": true,
   "toc_window_display": false
  },
  "varInspector": {
   "cols": {
    "lenName": 16,
    "lenType": 16,
    "lenVar": 40
   },
   "kernels_config": {
    "python": {
     "delete_cmd_postfix": "",
     "delete_cmd_prefix": "del ",
     "library": "var_list.py",
     "varRefreshCmd": "print(var_dic_list())"
    },
    "r": {
     "delete_cmd_postfix": ") ",
     "delete_cmd_prefix": "rm(",
     "library": "var_list.r",
     "varRefreshCmd": "cat(var_dic_list()) "
    }
   },
   "types_to_exclude": [
    "module",
    "function",
    "builtin_function_or_method",
    "instance",
    "_Feature"
   ],
   "window_display": false
  }
 },
 "nbformat": 4,
 "nbformat_minor": 5
}
