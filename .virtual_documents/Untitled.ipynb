def subjuntivo_presente():
    infinitivo = input("Darme un infinitivo:").lower().strip()
    ar_sufijos = ['e', 'es', 'e', 'emos', 'éis', 'en']
    er_ir_sufijos = ['a', 'as', 'a', 'amos', 'áis', 'an']
    if infinitivo.endswith("ar"):
        for sufijo in ar_sufijos:
            print(infinitivo[:-2] + sufijo)
    elif infinitivo.endswith(("er", "ir")):
        for sufijo in er_ir_sufijos:
            print(infinitivo[:-2] + sufijo)   
    else:
        return ("El infinitivo no es válido. Debe que terminar en 'ar', 'er', 'ir'")


subjuntivo_presente()
