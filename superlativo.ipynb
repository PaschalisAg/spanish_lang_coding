{
 "cells": [
  {
   "cell_type": "code",
   "execution_count": 7,
   "id": "fa290da9",
   "metadata": {},
   "outputs": [],
   "source": [
    "def superlativo_es():\n",
    "    adjetivo = str(input(\"Darme un adjetivo español:\")).lower().strip()\n",
    "    # -co --> -qu + ísimo\n",
    "    if adjetivo.endswith(\"co\"):\n",
    "        return adjetivo[:-2] + \"quísimo/a\"\n",
    "    # -go --> -gu + ísimo\n",
    "    elif adjetivo.endswith(\"go\"):\n",
    "        return adjetivo[:-1] + \"uísimo/a\"\n",
    "    # -guo --> - gu + ísimo\n",
    "    elif adjetivo.endswith(\"guo\"):\n",
    "        return adjetivo[:-1] + \"ísimo/a\"\n",
    "    # case of adjectives like miserable\n",
    "    # miserable --> misera + bil + ísimo\n",
    "    elif adjetivo == \"miserable\":\n",
    "        return adjetivo[:-3] + \"bil\" + \"ísimo\"\n",
    "    elif adjetivo.endswith(\"rable\"):\n",
    "        return adjetivo[:-6] + \"irabil\" + \"ísimo/a\"\n",
    "    # -ble --> bil + ísimo\n",
    "    elif adjetivo.endswith(\"ble\"):\n",
    "        return adjetivo[:-3] + \"bil\" + \"ísimo/a\"\n",
    "    # -z --> c + ísimo\n",
    "    elif adjetivo.endswith(\"z\"):\n",
    "        return adjetivo[:-1] + \"c\" + \"ísimo/a\"\n",
    "    # -iente --> -enti + ísimo\n",
    "    elif adjetivo.endswith(\"ente\"):\n",
    "        return adjetivo[:-5] + \"entísimo/a\"\n",
    "    # -n, -dor, -or --> adjective + císimo\n",
    "    elif adjetivo.endswith((\"n\", \"dor\", \"or\")):\n",
    "        return adjetivo + \"císimo/a\"\n",
    "    # -re, -ro\n",
    "    elif adjetivo.endswith((\"re\", \"ro\", \"ra\")):\n",
    "        if adjetivo == \"célebre\" or adjetivo == \"celebre\":\n",
    "            return \"celebérrimo/a\"\n",
    "        elif adjetivo.endswith(\"re\"):\n",
    "            return adjetivo[:-2] + \"érrimo\"\n",
    "        elif adjetivo == \"mísero\" or adjetivo == \"misero\":\n",
    "            return adjetivo[:-3] + \"érrimo\"\n",
    "        elif adjetivo.endswith(\"ro\"):\n",
    "            return adjetivo[:-3] + \"érrimo\"\n",
    "    else:\n",
    "        return adjetivo[:-1] + \"ísimo/a\""
   ]
  },
  {
   "cell_type": "code",
   "execution_count": 8,
   "id": "d2f4bb59-01f1-4112-8490-462cf62a9663",
   "metadata": {},
   "outputs": [
    {
     "name": "stdin",
     "output_type": "stream",
     "text": [
      "Darme un adjetivo español: miserable\n"
     ]
    },
    {
     "data": {
      "text/plain": [
       "'miserabilísimo'"
      ]
     },
     "execution_count": 8,
     "metadata": {},
     "output_type": "execute_result"
    }
   ],
   "source": [
    "superlativo_es()"
   ]
  }
 ],
 "metadata": {
  "kernelspec": {
   "display_name": "Python 3 (ipykernel)",
   "language": "python",
   "name": "python3"
  },
  "language_info": {
   "codemirror_mode": {
    "name": "ipython",
    "version": 3
   },
   "file_extension": ".py",
   "mimetype": "text/x-python",
   "name": "python",
   "nbconvert_exporter": "python",
   "pygments_lexer": "ipython3",
   "version": "3.8.2"
  },
  "toc": {
   "base_numbering": 1,
   "nav_menu": {},
   "number_sections": true,
   "sideBar": true,
   "skip_h1_title": false,
   "title_cell": "Table of Contents",
   "title_sidebar": "Contents",
   "toc_cell": false,
   "toc_position": {},
   "toc_section_display": true,
   "toc_window_display": false
  },
  "varInspector": {
   "cols": {
    "lenName": 16,
    "lenType": 16,
    "lenVar": 40
   },
   "kernels_config": {
    "python": {
     "delete_cmd_postfix": "",
     "delete_cmd_prefix": "del ",
     "library": "var_list.py",
     "varRefreshCmd": "print(var_dic_list())"
    },
    "r": {
     "delete_cmd_postfix": ") ",
     "delete_cmd_prefix": "rm(",
     "library": "var_list.r",
     "varRefreshCmd": "cat(var_dic_list()) "
    }
   },
   "types_to_exclude": [
    "module",
    "function",
    "builtin_function_or_method",
    "instance",
    "_Feature"
   ],
   "window_display": false
  }
 },
 "nbformat": 4,
 "nbformat_minor": 5
}
