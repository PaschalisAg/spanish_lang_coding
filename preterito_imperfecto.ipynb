{
 "cells": [
  {
   "cell_type": "markdown",
   "id": "296b0bc3-5125-4ac1-aac0-2d978cba71e3",
   "metadata": {},
   "source": [
    "# Pretérito imperfecto (aka copretérito)\n",
    "- talk about **past** actions, conditions, or events that occurred habitually or repeatedly \n",
    "- events, actions, conditions that were in progress at a point in the **past**\n",
    "- to tell time, talk about dates, give a person's age, and describe characteristics, conditions, and feelings in the **past**"
   ]
  },
  {
   "cell_type": "code",
   "execution_count": 7,
   "id": "db12586f-a513-4489-8539-12313485d024",
   "metadata": {},
   "outputs": [],
   "source": [
    "import time\n",
    "\n",
    "\n",
    "def preterito_imperfecto():\n",
    "    verb = str(input(\"Darme un infinitivo en español:\"))\n",
    "    ar_suffixes = [\"aba\", \"abas\", \"aba\", \"ábamos\", \"abais\", \"aban\"]\n",
    "    er_ir_suffixes = [\"ía\", \"ías\", \"ía\", \"íamos\", \"íais\", \"ían\"]\n",
    "    ir_preterito = [\"iba\", \"ibas\", \"iba\", \"íbamos\", \"ibais\", \"iban\"]\n",
    "    ser_preterito = [\"era\", \"eras\", \"era\", \"éramos\", \"erais\", \"eran\"]\n",
    "    ver_preterito = [\"veía\", \"veías\", \"veía\", \"véiamos\", \"véiais\", \"veían\"]\n",
    "    if verb == \"ir\":\n",
    "        for case in ir_preterito:\n",
    "            print(case)\n",
    "            time.sleep(1)\n",
    "    elif verb == \"ser\":\n",
    "        for case in ser_preterito:\n",
    "            print(case)\n",
    "            time.sleep(1)\n",
    "    elif verb == \"ver\":\n",
    "        for case in ver_preterito:\n",
    "            print(case)\n",
    "            time.sleep(1)\n",
    "    elif verb.endswith(\"ar\"):\n",
    "        for suffix in ar_suffixes:\n",
    "            print(\n",
    "                verb[:-2] + suffix\n",
    "            )  # remove infinitive suffix and add preterito imperfecto suffix\n",
    "            time.sleep(1)\n",
    "    elif verb.endswith((\"er\", \"ir\")):\n",
    "        for suffix in er_ir_suffixes:\n",
    "            print(\n",
    "                verb[:-2] + suffix\n",
    "            )  # remove infinitive suffix and add preterito imperfecto suffix\n",
    "            time.sleep(1)\n",
    "    else:\n",
    "        raise ValueError(\n",
    "            \"The verb you provided is not in infinitive form.\\nRemember the suffixes of infinitives in Castellano can be: -ar, -er, -ir.\"\n",
    "        )"
   ]
  },
  {
   "cell_type": "code",
   "execution_count": 8,
   "id": "e728bd27-6631-4875-8e07-a6c1afcd28a5",
   "metadata": {
    "tags": []
   },
   "outputs": [
    {
     "name": "stdin",
     "output_type": "stream",
     "text": [
      "Darme un infinitivo en español: volver\n"
     ]
    },
    {
     "name": "stdout",
     "output_type": "stream",
     "text": [
      "volvía\n",
      "volvías\n",
      "volvía\n",
      "volvíamos\n",
      "volvíais\n",
      "volvían\n"
     ]
    }
   ],
   "source": [
    "preterito_imperfecto()"
   ]
  }
 ],
 "metadata": {
  "kernelspec": {
   "display_name": "Python 3 (ipykernel)",
   "language": "python",
   "name": "python3"
  },
  "language_info": {
   "codemirror_mode": {
    "name": "ipython",
    "version": 3
   },
   "file_extension": ".py",
   "mimetype": "text/x-python",
   "name": "python",
   "nbconvert_exporter": "python",
   "pygments_lexer": "ipython3",
   "version": "3.8.2"
  }
 },
 "nbformat": 4,
 "nbformat_minor": 5
}
