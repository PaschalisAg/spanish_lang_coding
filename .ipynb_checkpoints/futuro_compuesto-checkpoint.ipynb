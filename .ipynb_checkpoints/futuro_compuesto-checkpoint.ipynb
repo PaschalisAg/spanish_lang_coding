{
 "cells": [
  {
   "cell_type": "markdown",
   "id": "0caabf48",
   "metadata": {},
   "source": [
    "# Futuro Compuesto"
   ]
  },
  {
   "cell_type": "markdown",
   "id": "4dbeb26d",
   "metadata": {},
   "source": [
    "## Use\n",
    "\n",
    "The ***futuro compuesto*** in Spanish is used to express the following:\n",
    "\n",
    "- a future action that will be completed before the action indicated with a temporal reference.\n",
    "    \n",
    "        e.g., Juan salió my temprano con la bicicleta. Para la hora de comer habría vuelto en la casa. (in: Juan left very early with his bicycle. By lunchtime he will have returned home).\n",
    "\n",
    "- an assumption about the past.\n",
    "\n",
    "        e.g., Se habra caído de la bicicleta. (in: He must have fallen off his bike).\n",
    "        \n",
    "- an assumption or conjecture about the future.\n",
    "\n",
    "        e.g., La semana que viene va de excursión con unos amigos. Para entonces habrá reparado la avería. (in: Next week he/she is going for a hike with some friends. By then he/she will have repaired the fault.)\n",
    "        \n",
    "        \n",
    "## Conjugation\n",
    "\n",
    "To conjugate a Spanish verb in *futuro compuesto* the auxiliary verb ***haber*** in *futuro simple* and the ***participio*** of the main verb are being used.\n",
    "\n",
    "Verb *haber* in *futuro simple*:\n",
    "\n",
    "| **Persona** | **Verbo auxiliar** | **Patricipio** |\n",
    "| --- | --- | --- |\n",
    "| yo | habré | participio|\n",
    "| tú | habrás | participio |\n",
    "| él, ella, usted | habrá | participio |\n",
    "| nosotros/-as | habremos | participio |\n",
    "| vosotros/-as | habréis | participio |\n",
    "| ellos/-as, ustedes| habrán | participio |\n",
    "\n",
    "\n",
    "### Form of the *participio*\n",
    "The *participio* (i.e., the past participle) in Spanish is formed by removing the suffix from the verbs (i.e., -ar, -er, -ir) and by adding ***-ado*** (for -ar verbs) or ***-ido*** (for -er or -ir verbs). In other words, by adding the aforementioned suffixed in the root of the infinitive.\n",
    "\n",
    "    e.g., jugar --> jug-ado\n",
    "    \n",
    "    leer --> le-ído\n",
    "    \n",
    "    oír --> oído\n",
    "    \n",
    "#### Irregular verbs\n",
    "| INFINITIVE | PAST PARTICIPLE | ENGLISH |\n",
    "| --- | --- | --- |\n",
    "| abrir | abierto | open/ opened |\n",
    "| cubrir | cubierto | covered |\n",
    "| decir | dicho | said |\n",
    "| escribir | escrito | written |\n",
    "| hacer | hecho | done/ completed |\n",
    "| freír | frito/ freído | fried |\n",
    "| imprimir | impreso | printed\n",
    "| ver | visto | seen |\n",
    "| proveer | provisto/ proveído | provided |\n",
    "| morir | muerto | died |\n",
    "| poner | puesto | put |\n",
    "| romper | roto | broken |\n",
    "| satisfacer | satifecho | satisfied |\n",
    "| suscribir | suscrito/ suscripto | subscribed |\n",
    "| volver | vuelto | returned |"
   ]
  },
  {
   "cell_type": "code",
   "execution_count": 3,
   "id": "9fd4ca8c",
   "metadata": {
    "ExecuteTime": {
     "end_time": "2023-09-10T15:05:59.501975Z",
     "start_time": "2023-09-10T15:05:59.478518Z"
    }
   },
   "outputs": [],
   "source": [
    "def futuro_compuesto():\n",
    "    infinitivo = str(\n",
    "        input(\"Darme un infinitivo en Castellano: \")).lower().strip()\n",
    "\n",
    "    # auxiliary verb \"haber\"\n",
    "    haber_imperf = ['habré', 'habrás', 'habrá',\n",
    "                    'habremos', 'habréis', 'habrán']\n",
    "    irreg_verbs = ['abrir', 'decir', 'escribir',\n",
    "                   'hacer', 'ver', 'morir', 'poner', 'romper']\n",
    "    if infinitivo not in irreg_verbs:\n",
    "        if infinitivo.endswith('ar'):\n",
    "            participio = infinitivo[:-2] + 'ado'\n",
    "        elif infinitivo.endswith(('er', 'ir')):\n",
    "            participio = infinitivo[:-2] + 'ido'\n",
    "        elif infinitivo == \"ir\":\n",
    "            participio = infinitivo[:-1] + 'do'\n",
    "    if infinitivo == 'abrir':\n",
    "        for aux in haber_imperf:\n",
    "            print(aux + ' ' + 'abierto')\n",
    "    elif infinitivo == 'decir':\n",
    "        for aux in haber_imperf:\n",
    "            print(aux + ' ' + 'dicho')\n",
    "    elif infinitivo == 'escribir':\n",
    "        for aux in haber_imperf:\n",
    "            print(aux + ' ' + 'escrito')\n",
    "    elif infinitivo == 'hacer':\n",
    "        for aux in haber_imperf:\n",
    "            print(aux + ' ' + 'hecho')\n",
    "    elif infinitivo == 'ver':\n",
    "        for aux in haber_imperf:\n",
    "            print(aux + ' ' + 'visto')\n",
    "    elif infinitivo == 'morir':\n",
    "        for aux in haber_imperf:\n",
    "            print(aux + ' ' + 'muerto')\n",
    "    elif infinitivo == 'poner':\n",
    "        for aux in haber_imperf:\n",
    "            print(aux + ' ' + 'puesto')\n",
    "    elif infinitivo == 'romper':\n",
    "        for aux in haber_imperf:\n",
    "            print(aux + ' ' + 'roto')\n",
    "    elif infinitivo == 'freír':\n",
    "        for aux in haber_imperf:\n",
    "            print(aux + ' ' + 'frito/freido')\n",
    "    elif infinitivo == 'proveer':\n",
    "        for aux in haber_imperf:\n",
    "            print(aux + ' ' + 'provisto/proveido')\n",
    "    elif infinitivo == 'imprimir':\n",
    "        for aux in haber_imperf:\n",
    "            print(aux + ' ' + 'impreso/imprimido')\n",
    "    elif infinitivo == 'satisfacer':\n",
    "        for aux in haber_imperf:\n",
    "            print(aux + ' ' + 'satisfecho')\n",
    "    elif infinitivo == 'suscribir':\n",
    "        for aux in haber_imperf:\n",
    "            print(aux + ' ' + 'suscrito/suscripto')\n",
    "    elif infinitivo == 'volver':\n",
    "        for aux in haber_imperf:\n",
    "            print(aux + ' ' + 'vuelto')\n",
    "    else:\n",
    "        for aux in haber_imperf:\n",
    "            print(aux + ' ' + participio)"
   ]
  },
  {
   "cell_type": "code",
   "execution_count": 4,
   "id": "587f5aa9",
   "metadata": {
    "ExecuteTime": {
     "end_time": "2023-09-10T15:06:02.955162Z",
     "start_time": "2023-09-10T15:06:00.747535Z"
    }
   },
   "outputs": [
    {
     "name": "stdout",
     "output_type": "stream",
     "text": [
      "Darme un infinitivo en Castellano: cumplir\n",
      "habré cumplido\n",
      "habrás cumplido\n",
      "habrá cumplido\n",
      "habremos cumplido\n",
      "habréis cumplido\n",
      "habrán cumplido\n"
     ]
    }
   ],
   "source": [
    "futuro_compuesto()"
   ]
  },
  {
   "cell_type": "markdown",
   "id": "6024d619",
   "metadata": {},
   "source": [
    "# Resources\n",
    "\n",
    "> https://espanol.lingolia.com/es/gramatica/tiempos/futuro-compuesto\n",
    "\n",
    "> https://espanol.lingolia.com/es/gramatica/tiempos/futuro-simple"
   ]
  }
 ],
 "metadata": {
  "kernelspec": {
   "display_name": "Python 3 (ipykernel)",
   "language": "python",
   "name": "python3"
  },
  "language_info": {
   "codemirror_mode": {
    "name": "ipython",
    "version": 3
   },
   "file_extension": ".py",
   "mimetype": "text/x-python",
   "name": "python",
   "nbconvert_exporter": "python",
   "pygments_lexer": "ipython3",
   "version": "3.8.2"
  },
  "toc": {
   "base_numbering": 1,
   "nav_menu": {},
   "number_sections": true,
   "sideBar": true,
   "skip_h1_title": false,
   "title_cell": "Table of Contents",
   "title_sidebar": "Contents",
   "toc_cell": false,
   "toc_position": {},
   "toc_section_display": true,
   "toc_window_display": false
  },
  "varInspector": {
   "cols": {
    "lenName": 16,
    "lenType": 16,
    "lenVar": 40
   },
   "kernels_config": {
    "python": {
     "delete_cmd_postfix": "",
     "delete_cmd_prefix": "del ",
     "library": "var_list.py",
     "varRefreshCmd": "print(var_dic_list())"
    },
    "r": {
     "delete_cmd_postfix": ") ",
     "delete_cmd_prefix": "rm(",
     "library": "var_list.r",
     "varRefreshCmd": "cat(var_dic_list()) "
    }
   },
   "types_to_exclude": [
    "module",
    "function",
    "builtin_function_or_method",
    "instance",
    "_Feature"
   ],
   "window_display": false
  }
 },
 "nbformat": 4,
 "nbformat_minor": 5
}
