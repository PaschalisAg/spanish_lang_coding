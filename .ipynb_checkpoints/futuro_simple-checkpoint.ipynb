{
 "cells": [
  {
   "cell_type": "code",
   "execution_count": 76,
   "id": "6c67cd55",
   "metadata": {
    "ExecuteTime": {
     "end_time": "2023-07-09T13:51:27.827177Z",
     "start_time": "2023-07-09T13:51:27.811500Z"
    }
   },
   "outputs": [],
   "source": [
    "import time\n",
    "\n",
    "\n",
    "def futuro_simple():\n",
    "    verb = str(input(\"Give me a spanish infinitive:\"))\n",
    "    fut_simple_suf = [\"é\", \"ás\", \"á\", \"emos\", \"éis\", \"án\"]\n",
    "    verbs_irreg = [\"caber\", \"poder\", \"saber\", \"querer\", \"haber\"]\n",
    "    for suffix in fut_simple_suf:\n",
    "        if verb.endswith((\"er\", \"ir\")) and (verb[-3] == \"n\" or verb[-3] == \"l\"):\n",
    "            print(verb[:-2] + \"d\" + verb[-1] + suffix)\n",
    "        elif verb in verbs_irreg:\n",
    "            print(verb[:-2] + \"r\" + suffix)\n",
    "        elif verb == \"hacer\":\n",
    "            print(\"har\" + suffix)\n",
    "        elif verb == \"decir\":\n",
    "            print(verb[0] + verb[-2:] + suffix)\n",
    "        else:\n",
    "            print(verb + suffix)\n",
    "        time.sleep(1)"
   ]
  },
  {
   "cell_type": "code",
   "execution_count": 77,
   "id": "4f4daedb",
   "metadata": {
    "ExecuteTime": {
     "end_time": "2023-07-09T13:51:36.741539Z",
     "start_time": "2023-07-09T13:51:28.184638Z"
    }
   },
   "outputs": [
    {
     "name": "stdout",
     "output_type": "stream",
     "text": [
      "Give me a spanish infinitive:seguir\n",
      "seguiré\n",
      "seguirás\n",
      "seguirá\n",
      "seguiremos\n",
      "seguiréis\n",
      "seguirán\n"
     ]
    }
   ],
   "source": [
    "futuro_simple()"
   ]
  }
 ],
 "metadata": {
  "kernelspec": {
   "display_name": "Python 3 (ipykernel)",
   "language": "python",
   "name": "python3"
  },
  "language_info": {
   "codemirror_mode": {
    "name": "ipython",
    "version": 3
   },
   "file_extension": ".py",
   "mimetype": "text/x-python",
   "name": "python",
   "nbconvert_exporter": "python",
   "pygments_lexer": "ipython3",
   "version": "3.8.2"
  },
  "toc": {
   "base_numbering": 1,
   "nav_menu": {},
   "number_sections": true,
   "sideBar": true,
   "skip_h1_title": false,
   "title_cell": "Table of Contents",
   "title_sidebar": "Contents",
   "toc_cell": false,
   "toc_position": {},
   "toc_section_display": true,
   "toc_window_display": false
  },
  "varInspector": {
   "cols": {
    "lenName": 16,
    "lenType": 16,
    "lenVar": 40
   },
   "kernels_config": {
    "python": {
     "delete_cmd_postfix": "",
     "delete_cmd_prefix": "del ",
     "library": "var_list.py",
     "varRefreshCmd": "print(var_dic_list())"
    },
    "r": {
     "delete_cmd_postfix": ") ",
     "delete_cmd_prefix": "rm(",
     "library": "var_list.r",
     "varRefreshCmd": "cat(var_dic_list()) "
    }
   },
   "types_to_exclude": [
    "module",
    "function",
    "builtin_function_or_method",
    "instance",
    "_Feature"
   ],
   "window_display": false
  }
 },
 "nbformat": 4,
 "nbformat_minor": 5
}
