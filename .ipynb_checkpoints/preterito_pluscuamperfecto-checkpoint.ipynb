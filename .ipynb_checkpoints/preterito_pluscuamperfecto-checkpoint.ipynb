{
 "cells": [
  {
   "cell_type": "markdown",
   "id": "456d0227-c238-4204-90e4-edf16200cd75",
   "metadata": {},
   "source": [
    "# Pretérito pluscuamperfecto (aka antecopretérito)\n",
    "## Introduction\n",
    "The *pretérito pluscuamperfecto* (also known as *antecopretérito*) is used to talk about a **past** action that happened prior to another action in the past.\n",
    "\n",
    "## Forming pretérito pluscuamperfecto\n",
    "As mentioned earlier this specific tense is used to describe an action that happened before another action in the past. An example in English would be the following one:\n",
    "e.g. *You had already seen the Netflix series, before him.*\n",
    "\n",
    "To form *pretérito pluscuamperfecto* we need to combine the verb ***haber*** in the **pretérito imperfecto** with a ***participio***.\n",
    "\n",
    "One very important rule is that the auxiliary verb \"haber\" and the past participle are never separated. If object pronouns are present, then they go immediately before \"haber\":\n",
    "e.g., *Él lo había sacado cuando entró en tu casa*.\n",
    "\n",
    "To form *haber* in *pretérito imperfecto* we do the following:\n",
    "    \n",
    "    había\n",
    "    \n",
    "    habías\n",
    "    \n",
    "    había\n",
    "    \n",
    "    habíamos\n",
    "    \n",
    "    habíais\n",
    "    \n",
    "    habían\n",
    "    \n",
    "Forming the *participio* following a different but simple way of thought:\n",
    "Remove the infinitive suffix ***-ar, -er, -ir*** and add the suffix ***-ado*** and ***-ido*** for *-ar* and *-er, -ir* respectively.\n",
    "\n",
    "e.g., \n",
    "\n",
    "   > hablar --> habl-**ado**\n",
    "   \n",
    "   > tener --> ten-**ido**\n",
    "   \n",
    "   > vivir --> viv-**ido**\n",
    "   \n",
    "           etc.\n",
    "\n",
    "Besides some irregular verbs:\n",
    "e.g.,\n",
    "\n",
    "| INFINITIVE | PAST PARTICIPLE | ENGLISH |\n",
    "| --- | --- | --- |\n",
    "| abrir | abierto | open/ opened |\n",
    "| cubrir | cubierto | covered |\n",
    "| decir | dicho | said |\n",
    "| escribir | escrito | written |\n",
    "| hacer | hecho | done/ completed |\n",
    "| freír | frito/ freído | fried |\n",
    "| imprimir | impreso | printed\n",
    "| ver | visto | seen |\n",
    "| proveer | provisto/ proveído | provided |\n",
    "| morir | muerto | died |\n",
    "| poner | puesto | put |\n",
    "| romper | roto | broken |\n",
    "| satisfacer | satifecho | satisfied |\n",
    "| suscribir | suscrito/ suscripto | subscribed |\n",
    "| volver | vuelto | returned |"
   ]
  },
  {
   "cell_type": "code",
   "execution_count": 3,
   "id": "4e17bab1",
   "metadata": {
    "ExecuteTime": {
     "end_time": "2023-09-10T13:11:31.197042Z",
     "start_time": "2023-09-10T13:11:31.174556Z"
    }
   },
   "outputs": [],
   "source": [
    "import time\n",
    "\n",
    "\n",
    "def pretérito_pluscuamperfecto():\n",
    "    infinitivo = str(\n",
    "        input(\"Darme un infinitivo en Castellano: \")).lower().strip()\n",
    "\n",
    "    # auxiliary verb \"haber\"\n",
    "    haber_imperf = ['había', 'habías', 'había',\n",
    "                    'habíamos', 'habíais', 'habían']\n",
    "    irreg_verbs = ['abrir', 'decir', 'escribir',\n",
    "                   'hacer', 'ver', 'morir', 'poner', 'romper']\n",
    "    vowels = ['a','e','i','o','u','á','é','í','ó','ü']\n",
    "\n",
    "    \n",
    "    if infinitivo not in irreg_verbs:\n",
    "        if infinitivo.endswith('ar'):\n",
    "            if infinitivo[-3] in vowels:\n",
    "                participio = infinitivo[:-2] + 'ádo'\n",
    "            else:\n",
    "                participio = infinitivo[:-2] + 'ado'\n",
    "        elif infinitivo.endswith(('er', 'ir')):\n",
    "            if infinitivo[-3] in vowels:\n",
    "                participio = infinitivo[:-2] + 'ído'\n",
    "            else:\n",
    "                participio = infinitivo[:-2] + 'ido'\n",
    "\n",
    "    if infinitivo == 'abrir':\n",
    "        for aux in haber_imperf:\n",
    "            print(aux + ' ' + 'abierto')\n",
    "    elif infinitivo == \"ir\":\n",
    "            participio = infinitivo[:-1] + 'do'\n",
    "    elif infinitivo == 'decir':\n",
    "        for aux in haber_imperf:\n",
    "            print(aux + ' ' + 'dicho')\n",
    "    elif infinitivo == 'escribir':\n",
    "        for aux in haber_imperf:\n",
    "            print(aux + ' ' + 'escrito')\n",
    "    elif infinitivo == 'hacer':\n",
    "        for aux in haber_imperf:\n",
    "            print(aux + ' ' + 'hecho')\n",
    "    elif infinitivo == 'ver':\n",
    "        for aux in haber_imperf:\n",
    "            print(aux + ' ' + 'visto')\n",
    "    elif infinitivo == 'morir':\n",
    "        for aux in haber_imperf:\n",
    "            print(aux + ' ' + 'muerto')\n",
    "    elif infinitivo == 'poner':\n",
    "        for aux in haber_imperf:\n",
    "            print(aux + ' ' + 'puesto')\n",
    "    elif infinitivo == 'romper':\n",
    "        for aux in haber_imperf:\n",
    "            print(aux + ' ' + 'roto')\n",
    "    elif infinitivo == 'freír':\n",
    "        for aux in haber_imperf:\n",
    "            print(aux + ' ' + 'frito/freido')\n",
    "    elif infinitivo == 'proveer':\n",
    "        for aux in haber_imperf:\n",
    "            print(aux + ' ' + 'provisto/proveido')\n",
    "    elif infinitivo == 'imprimir':\n",
    "        for aux in haber_imperf:\n",
    "            print(aux + ' ' + 'impreso/imprimido')\n",
    "    elif infinitivo == 'satisfacer':\n",
    "        for aux in haber_imperf:\n",
    "            print(aux + ' ' + 'satisfecho')\n",
    "    elif infinitivo == 'suscribir':\n",
    "        for aux in haber_imperf:\n",
    "            print(aux + ' ' + 'suscrito/suscripto')\n",
    "    elif infinitivo == 'volver':\n",
    "        for aux in haber_imperf:\n",
    "            print(aux + ' ' + 'vuelto')\n",
    "    else:\n",
    "        for aux in haber_imperf:\n",
    "            print(aux + ' ' + participio)"
   ]
  },
  {
   "cell_type": "code",
   "execution_count": 4,
   "id": "4fc6cf2c",
   "metadata": {
    "ExecuteTime": {
     "end_time": "2023-09-10T13:11:33.476116Z",
     "start_time": "2023-09-10T13:11:31.652437Z"
    }
   },
   "outputs": [
    {
     "name": "stdin",
     "output_type": "stream",
     "text": [
      "Darme un infinitivo en Castellano:  oir\n"
     ]
    },
    {
     "name": "stdout",
     "output_type": "stream",
     "text": [
      "había oído\n",
      "habías oído\n",
      "había oído\n",
      "habíamos oído\n",
      "habíais oído\n",
      "habían oído\n"
     ]
    }
   ],
   "source": [
    "pretérito_pluscuamperfecto()"
   ]
  },
  {
   "cell_type": "code",
   "execution_count": null,
   "id": "cc00b9fd-11a2-417e-b282-77772b45dcef",
   "metadata": {},
   "outputs": [],
   "source": []
  }
 ],
 "metadata": {
  "kernelspec": {
   "display_name": "Python 3 (ipykernel)",
   "language": "python",
   "name": "python3"
  },
  "language_info": {
   "codemirror_mode": {
    "name": "ipython",
    "version": 3
   },
   "file_extension": ".py",
   "mimetype": "text/x-python",
   "name": "python",
   "nbconvert_exporter": "python",
   "pygments_lexer": "ipython3",
   "version": "3.8.2"
  },
  "toc": {
   "base_numbering": 1,
   "nav_menu": {},
   "number_sections": true,
   "sideBar": true,
   "skip_h1_title": false,
   "title_cell": "Table of Contents",
   "title_sidebar": "Contents",
   "toc_cell": false,
   "toc_position": {},
   "toc_section_display": true,
   "toc_window_display": false
  },
  "varInspector": {
   "cols": {
    "lenName": 16,
    "lenType": 16,
    "lenVar": 40
   },
   "kernels_config": {
    "python": {
     "delete_cmd_postfix": "",
     "delete_cmd_prefix": "del ",
     "library": "var_list.py",
     "varRefreshCmd": "print(var_dic_list())"
    },
    "r": {
     "delete_cmd_postfix": ") ",
     "delete_cmd_prefix": "rm(",
     "library": "var_list.r",
     "varRefreshCmd": "cat(var_dic_list()) "
    }
   },
   "types_to_exclude": [
    "module",
    "function",
    "builtin_function_or_method",
    "instance",
    "_Feature"
   ],
   "window_display": false
  },
  "widgets": {
   "application/vnd.jupyter.widget-state+json": {
    "state": {},
    "version_major": 2,
    "version_minor": 0
   }
  }
 },
 "nbformat": 4,
 "nbformat_minor": 5
}
