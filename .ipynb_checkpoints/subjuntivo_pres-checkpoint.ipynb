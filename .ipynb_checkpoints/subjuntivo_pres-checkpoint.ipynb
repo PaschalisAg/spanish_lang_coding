{
 "cells": [
  {
   "cell_type": "code",
   "execution_count": 20,
   "id": "9749f833-e096-4b8f-a8a6-07100f420288",
   "metadata": {},
   "outputs": [],
   "source": [
    "def subjuntivo_presente():\n",
    "    infinitivo = input(\"Darme un infinitivo:\").lower().strip()\n",
    "    ar_sufijos = ['e', 'es', 'e', 'emos', 'éis', 'en']\n",
    "    er_ir_sufijos = ['a', 'as', 'a', 'amos', 'áis', 'an']\n",
    "    if infinitivo.endswith(\"ar\"):\n",
    "        for sufijo in ar_sufijos:\n",
    "            print(infinitivo[:-2] + sufijo)\n",
    "    elif infinitivo.endswith((\"er\", \"ir\")):\n",
    "        for sufijo in er_ir_sufijos:\n",
    "            print(infinitivo[:-2] + sufijo)   \n",
    "    else:\n",
    "        return (\"El infinitivo no es válido. Debe que terminar en 'ar', 'er', 'ir'\")"
   ]
  },
  {
   "cell_type": "code",
   "execution_count": 21,
   "id": "69b3ad01-6851-4abe-a507-403bad625e86",
   "metadata": {},
   "outputs": [
    {
     "name": "stdin",
     "output_type": "stream",
     "text": [
      "Darme un infinitivo: cantar\n"
     ]
    },
    {
     "name": "stdout",
     "output_type": "stream",
     "text": [
      "cante\n",
      "cantes\n",
      "cante\n",
      "cantemos\n",
      "cantéis\n",
      "canten\n"
     ]
    }
   ],
   "source": [
    "subjuntivo_presente()"
   ]
  }
 ],
 "metadata": {
  "kernelspec": {
   "display_name": "Python 3 (ipykernel)",
   "language": "python",
   "name": "python3"
  },
  "language_info": {
   "codemirror_mode": {
    "name": "ipython",
    "version": 3
   },
   "file_extension": ".py",
   "mimetype": "text/x-python",
   "name": "python",
   "nbconvert_exporter": "python",
   "pygments_lexer": "ipython3",
   "version": "3.11.7"
  }
 },
 "nbformat": 4,
 "nbformat_minor": 5
}
