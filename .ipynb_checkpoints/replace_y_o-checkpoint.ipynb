{
 "cells": [
  {
   "cell_type": "code",
   "execution_count": 62,
   "id": "cba584ef",
   "metadata": {
    "ExecuteTime": {
     "end_time": "2023-06-26T08:30:38.619445Z",
     "start_time": "2023-06-26T08:30:38.606421Z"
    }
   },
   "outputs": [],
   "source": [
    "def correct_y_e():\n",
    "    sentence = input(\"Write a sentence that contains 'y' or 'o':\")\n",
    "    nlp = spacy.load(\"es_core_news_sm\")  # load the model of spanish\n",
    "    doc = nlp(sentence)\n",
    "    tokens = [token.text.lower().strip() for token in doc]\n",
    "    for i, token in enumerate(tokens):\n",
    "        if token == \"y\":\n",
    "            index_y = i\n",
    "            word_y = tokens[index_y]\n",
    "            index_next_word = i + 1\n",
    "            next_word = tokens[index_next_word]\n",
    "            if next_word.startswith(\"hie\"):\n",
    "                # Skip processing and move to the next token\n",
    "                continue\n",
    "            elif next_word.startswith((\"i\", \"hi\")):\n",
    "                word_list = sentence.split()\n",
    "                word_list[index_y] = \"e\"\n",
    "                sentence = \" \".join(word_list)\n",
    "\n",
    "        elif token == \"o\":\n",
    "            index_o = i\n",
    "            word_o = tokens[index_o]\n",
    "            index_next_word = i + 1\n",
    "            next_word = tokens[index_next_word]\n",
    "            if next_word.startswith((\"o\", \"ho\")):\n",
    "                word_list = sentence.split()\n",
    "                word_list[index_o] = \"u\"\n",
    "                sentence = \" \".join(word_list)\n",
    "    return sentence"
   ]
  },
  {
   "cell_type": "code",
   "execution_count": 66,
   "id": "44160029",
   "metadata": {
    "ExecuteTime": {
     "end_time": "2023-06-26T08:31:21.773445Z",
     "start_time": "2023-06-26T08:31:17.834668Z"
    }
   },
   "outputs": [
    {
     "name": "stdout",
     "output_type": "stream",
     "text": [
      "Write a sentence that contains 'y' or 'o':Necesito productos de limpieza y higiene.\n"
     ]
    },
    {
     "data": {
      "text/plain": [
       "'Necesito productos de limpieza e higiene.'"
      ]
     },
     "execution_count": 66,
     "metadata": {},
     "output_type": "execute_result"
    }
   ],
   "source": [
    "correct_y_e()"
   ]
  }
 ],
 "metadata": {
  "kernelspec": {
   "display_name": "Python 3 (ipykernel)",
   "language": "python",
   "name": "python3"
  },
  "language_info": {
   "codemirror_mode": {
    "name": "ipython",
    "version": 3
   },
   "file_extension": ".py",
   "mimetype": "text/x-python",
   "name": "python",
   "nbconvert_exporter": "python",
   "pygments_lexer": "ipython3",
   "version": "3.8.13"
  },
  "latex_envs": {
   "LaTeX_envs_menu_present": true,
   "autoclose": true,
   "autocomplete": true,
   "bibliofile": "biblio.bib",
   "cite_by": "apalike",
   "current_citInitial": 1,
   "eqLabelWithNumbers": true,
   "eqNumInitial": 1,
   "hotkeys": {
    "equation": "Ctrl-E",
    "itemize": "Ctrl-I"
   },
   "labels_anchors": false,
   "latex_user_defs": false,
   "report_style_numbering": false,
   "user_envs_cfg": false
  },
  "toc": {
   "base_numbering": 1,
   "nav_menu": {},
   "number_sections": true,
   "sideBar": true,
   "skip_h1_title": false,
   "title_cell": "Table of Contents",
   "title_sidebar": "Contents",
   "toc_cell": false,
   "toc_position": {},
   "toc_section_display": true,
   "toc_window_display": false
  },
  "varInspector": {
   "cols": {
    "lenName": 16,
    "lenType": 16,
    "lenVar": 40
   },
   "kernels_config": {
    "python": {
     "delete_cmd_postfix": "",
     "delete_cmd_prefix": "del ",
     "library": "var_list.py",
     "varRefreshCmd": "print(var_dic_list())"
    },
    "r": {
     "delete_cmd_postfix": ") ",
     "delete_cmd_prefix": "rm(",
     "library": "var_list.r",
     "varRefreshCmd": "cat(var_dic_list()) "
    }
   },
   "types_to_exclude": [
    "module",
    "function",
    "builtin_function_or_method",
    "instance",
    "_Feature"
   ],
   "window_display": false
  }
 },
 "nbformat": 4,
 "nbformat_minor": 5
}
